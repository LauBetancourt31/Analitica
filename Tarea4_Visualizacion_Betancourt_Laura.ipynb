{
  "nbformat": 4,
  "nbformat_minor": 0,
  "metadata": {
    "colab": {
      "private_outputs": true,
      "provenance": [],
      "include_colab_link": true
    },
    "kernelspec": {
      "name": "python3",
      "display_name": "Python 3"
    },
    "language_info": {
      "name": "python"
    }
  },
  "cells": [
    {
      "cell_type": "markdown",
      "metadata": {
        "id": "view-in-github",
        "colab_type": "text"
      },
      "source": [
        "<a href=\"https://colab.research.google.com/github/LauBetancourt31/Analitica/blob/main/Tarea4_Visualizacion_Betancourt_Laura.ipynb\" target=\"_parent\"><img src=\"https://colab.research.google.com/assets/colab-badge.svg\" alt=\"Open In Colab\"/></a>"
      ]
    },
    {
      "cell_type": "markdown",
      "source": [
        "<p><img alt=\"banner\" height=\"252px\" width=\"1080px\" src=\"https://docs.google.com/uc?export=download&id=1SqbMIjMfsMlSukiTyfMJ0VMuDlP2hGhx\"  align=\"center\" hspace=\"10px\" vspace=\"0px\" ></p>"
      ],
      "metadata": {
        "id": "A4JNHHlTUKZj"
      }
    },
    {
      "cell_type": "markdown",
      "source": [
        "# <font color='056938'> **Descripción** </font>\n",
        "\n",
        "Esta tarea tiene como proposito validar las competencias adquiridas para la visualización de datos y la comunicación de ifnformación a través de ellos. Para ello, se consideran **cuatro** puntos evaluables:\n",
        "\n",
        "\n",
        "1. La definición del proposito de la visualización con base en la información disponible\n",
        "2. La selección de la estrategia de visualización apropiada para los datos (i.e., tipo de visualización, gráficos especifícos)\n",
        "3. La implementación de la estrategia de visualización a través de alguna de las librerias de visualiazación de datos para python\n",
        "4. Comunicación (story telling) de los resultados o aspectos que se enfatizan en la visualización\n",
        "\n",
        "Como resultado de este ejercicio usted deberá entregar:\n",
        "* Una copia de este notebook desarrollando los puntos de la visualización\n",
        "* Realizar una presentación de **TRES**  minutos con máximo  **TRES** diapositivas basadas en las visualizaciones construidas\n",
        "\n",
        "\n",
        "Para ello, se llevarán a cabo los siguientes pasos:\n",
        "\n",
        "\n"
      ],
      "metadata": {
        "id": "7GHL9DgGUTjw"
      }
    },
    {
      "cell_type": "markdown",
      "source": [
        "##<font color='8EC044'> **0. Selección de la base de datos** </font>\n",
        "\n",
        "Usted debera escoger una de las siguientes tres bases de datos para realizar la tarea\n"
      ],
      "metadata": {
        "id": "n1Ulj3YhVsol"
      }
    },
    {
      "cell_type": "markdown",
      "source": [
        "### <font color='46B8A9'> **BD1: Estadisticas del mundial de Futbol 2022** </font>"
      ],
      "metadata": {
        "id": "5xQNemAHWbsE"
      }
    },
    {
      "cell_type": "markdown",
      "source": [
        "Esta base de datos contiene estadisticas sobre el desempeño de cada uno de los jugadores que tomaron parte en el Mundial de QATAR 2022. Una breve descripción de los datos y el significado de las variables puede encontrarse en este [enlace](https://www.kaggle.com/datasets/swaptr/fifa-world-cup-2022-player-data/data)"
      ],
      "metadata": {
        "id": "YiJ7nv8ZXUc_"
      }
    },
    {
      "cell_type": "code",
      "source": [
        "import pandas as pd\n",
        "!gdown 1QNQA3zMVnSSVBZNQgbC_eJshQn8dCJ9m\n",
        "\n",
        "players = pd.read_csv('player_stats.csv')\n",
        "players.sample(5)"
      ],
      "metadata": {
        "id": "tiy-cFu5WI85"
      },
      "execution_count": null,
      "outputs": []
    },
    {
      "cell_type": "markdown",
      "source": [
        "### <font color='46B8A9'> **BD2: Registro de desasteres naturales** </font>\n",
        "\n",
        "El Centro de Investigación sobre Epidemiología de Desastres (CRED) hace accesible la base de datos de desastres [EM-DAT](https://www.emdat.be/) que contiene datos sobre la ocurrencia e impacto de más de 26,000 desastres masivos en todo el mundo desde 1900 hasta el día de hoy (en nuestro caso la base de datos se descargó a partir para los datos a partir del año 2000).\n",
        "\n",
        "Una descripción de las distintas variables disponibles en la base de datos puede consultarse [aquí](https://doc.emdat.be/docs/data-structure-and-content/emdat-public-table/)"
      ],
      "metadata": {
        "id": "rTm97HkTYjTh"
      }
    },
    {
      "cell_type": "code",
      "source": [
        "import pandas as pd\n",
        "!gdown 1xiNWTQPT8DtiV64sg8Hg-YVNNebXLrBT\n",
        "\n",
        "EM_DAT = pd.read_excel('EM-DAT.xlsx')\n",
        "EM_DAT.sample(5)"
      ],
      "metadata": {
        "id": "F4hkoRGaJYjx"
      },
      "execution_count": null,
      "outputs": []
    },
    {
      "cell_type": "markdown",
      "source": [
        "### <font color='46B8A9'> **BD3: Registro de migración** </font>\n",
        "\n",
        "El Proyecto de Seguimiento de Migrantes Desaparecidos rastrea las muertes de migrantes, incluyendo refugiados y solicitantes de asilo, que han fallecido o desaparecido en el proceso de migración hacia un destino internacional. Estos datos representan estimaciones mínimas, ya que muchas muertes durante la migración no son registradas. La guía metodología  y significado de las variables puede encontrarse en el siguiente [enlace](https://missingmigrants.iom.int/sites/g/files/tmzbdl601/files/publication/file/MMP%2520data%2520collection%2520guidelines_EN.pdf)"
      ],
      "metadata": {
        "id": "PgKQtFLZ8iXW"
      }
    },
    {
      "cell_type": "code",
      "source": [
        "import pandas as pd\n",
        "!gdown 1CYkEzfTAkkpFKc4ukEK2HbBriRva3Onl\n",
        "\n",
        "migrants = pd.read_excel('missing_migrants.xlsx')\n",
        "migrants\n"
      ],
      "metadata": {
        "id": "qYnTDuYn82mf"
      },
      "execution_count": null,
      "outputs": []
    },
    {
      "cell_type": "markdown",
      "source": [
        "##<font color='8EC044'> **1. Describir el proposito de la visualización (10 puntos)** </font>\n",
        "\n",
        "Describa cuál es el objetivo de la visualización que diseñara, cuál es el punto que desea resaltar o la pregunta que desea responder o ilustrar con base en los datos.\n",
        "\n",
        "Note que **no es necesario considerar todo el conjunto de datos**. Es posible seleccionar solo aquellas columnas o registros que sea necesarios para el proposito plateado (ej. Solo los datos de terremotos en Colombia desde 2000). Adicionalmente, en caso de considerarlo necesario, puede complementar la información con otras bases de datos"
      ],
      "metadata": {
        "id": "tVY6tszx-9dZ"
      }
    },
    {
      "cell_type": "markdown",
      "source": [
        "##<font color='8EC044'> **2. Estrategia de visualización (10 puntos)** </font>\n",
        "\n",
        "Describa el tipo de visulización que considera apropiada para el proposito planteado, identificando los **dos (2) gráficos** que empleará. Incluya la justificación para la selección de dichos gráficos"
      ],
      "metadata": {
        "id": "VRshGiDG_sFw"
      }
    },
    {
      "cell_type": "markdown",
      "source": [
        "##<font color='8EC044'> **3. Implementación (10 puntos)** </font>\n",
        "\n",
        "Implemente los gráficos propuestos para su visualización usando alguna de las librerias de gráficación de pyton"
      ],
      "metadata": {
        "id": "mXZJeW1FALPP"
      }
    },
    {
      "cell_type": "markdown",
      "source": [
        "### <font color='46B8A9'> **Gráfico 1** </font>"
      ],
      "metadata": {
        "id": "pAd0Fs2HBJZd"
      }
    },
    {
      "cell_type": "code",
      "source": [
        "# Escriba su respuesta aquí"
      ],
      "metadata": {
        "id": "GBGqKJ3VBDcr"
      },
      "execution_count": null,
      "outputs": []
    },
    {
      "cell_type": "markdown",
      "source": [
        "### <font color='46B8A9'> **Gráfico 2** </font>"
      ],
      "metadata": {
        "id": "gMhEbtzUBO_V"
      }
    },
    {
      "cell_type": "code",
      "source": [
        "# Escriba su respuesta aquí"
      ],
      "metadata": {
        "id": "q2FpoQdeBO_W"
      },
      "execution_count": null,
      "outputs": []
    },
    {
      "cell_type": "markdown",
      "source": [
        "##<font color='8EC044'> **4. Presentación** </font>\n",
        "\n",
        "Prepare una presentación de 3 minutos con  máximo 3 slides en los que presente el mensaje que quisiera resaltar de la base de datos usando los **2 gráficos** implementados anteriormente y **máximo 3 diapositivas**"
      ],
      "metadata": {
        "id": "GN8R60xLBS3b"
      }
    }
  ]
}